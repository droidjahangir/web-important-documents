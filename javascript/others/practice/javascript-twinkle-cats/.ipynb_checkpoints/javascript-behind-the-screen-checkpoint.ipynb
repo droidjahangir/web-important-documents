{
 "cells": [
  {
   "cell_type": "markdown",
   "metadata": {},
   "source": [
    "![](./images/0-javascript-behind-the-screen.png)\n",
    "![](./images/1-javascript-behind-the-screen.png)\n",
    "\n",
    "![](./images/2-execution-context.png)\n",
    "![](./images/3-execution-context.png)\n",
    "![](./images/4-execution-context.png)\n",
    "![](./images/5-execution-context.png)\n",
    "![](./images/6-execution-context.png)\n",
    "![](./images/7-execution-context.png)\n",
    "![](./images/8-execution-context.png)\n",
    "![](./images/9-execution-context.png)\n"
   ]
  },
  {
   "cell_type": "markdown",
   "metadata": {},
   "source": [
    "creational phase এ ভেরিয়েবল গুলো লিস্টে এন্ট্রি করা হয় এবং ভেলু হিশেবে undefine করে দেওয়া হয় । যখন এক্সিকিউসন স্টেজে যায় তখন ভেরিয়েবলে ভেলু সেট করে দেওয়া হয় । সেজন্য ভেরিয়েবল ডিক্লেয়ারের পূর্বে যখন প্রিন্ট করতে বলা হয় তখন undefine দেখাবে কিন্তু এরর দিবে না, কিন্তু পরে প্রিন্ট করতে বলা হলে ভেলু প্রিন্ট করবে ।   \n",
    "\n",
    "কিন্তু ফাংশনের ক্ষেত্রে আলাদা কারণ ক্রিয়েসনাল স্টেজে ফাংশন গুলোকে রেফারেন্স অনুযায়ী স্টোর করা হয় তাই যখন এক্সিকিউসনাল স্টেজে যায় তখন ফাংশনের কাজ গুলো সঠিকভাবে করে । এটাই হচ্ছে মূলত hoisting . \n",
    "\n",
    "### Declaration vs Expression  \n",
    "\n",
    "`declaration`\n",
    "![declaration](./images/11-declaration-expression.png)\n",
    "\n",
    "`expression`\n",
    "![declaration](./images/12-declaration-expression.png)\n",
    "\n",
    "### scoping\n",
    "![scoping](./images/13-scoping.png)\n",
    "\n",
    "### execution stack vs scope chain\n",
    "![scoping](./images/14-scoping.png)\n",
    "![scoping](./images/15-scoping.png)"
   ]
  },
  {
   "cell_type": "markdown",
   "metadata": {},
   "source": [
    "### this keyword\n",
    "\n",
    "যখন this keyword টা কল করা হয় ফাংশনের মধ্যে থেকে তখন সেটা window or global object কে রেফার করে । কিন্তু যখন কোন অবজেক্টের মধ্যে থেকে কল করা হয় তখন this keyword দ্বারা ওই অবজেক্টে রেফার করে ।   \n",
    "\n",
    "![this](./images/16-this.png)  \n",
    "\n",
    "function এর মধ্যে ফাংশন থাকলে সেই ফাংশনের this keyword টা গ্লোবাল বা উইন্ডো অবজেক্ট কে রেফার করবে । আর কোন অবজেক্টের মধ্যে ফাংশন থাকে এবং ওই ফাংশনে যে this ইউজ হয় ওই this কি-ওয়ার্ড টা ওই অবজেক্ট টাকে রেফার করে  ।   "
   ]
  },
  {
   "cell_type": "code",
   "execution_count": null,
   "metadata": {},
   "outputs": [],
   "source": []
  }
 ],
 "metadata": {
  "kernelspec": {
   "display_name": "Python 3",
   "language": "python",
   "name": "python3"
  },
  "language_info": {
   "codemirror_mode": {
    "name": "ipython",
    "version": 3
   },
   "file_extension": ".py",
   "mimetype": "text/x-python",
   "name": "python",
   "nbconvert_exporter": "python",
   "pygments_lexer": "ipython3",
   "version": "3.7.2"
  }
 },
 "nbformat": 4,
 "nbformat_minor": 2
}
