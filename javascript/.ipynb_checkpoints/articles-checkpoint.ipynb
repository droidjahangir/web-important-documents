{
 "cells": [
  {
   "cell_type": "markdown",
   "metadata": {},
   "source": [
    "# Article :  \n",
    "\n",
    "\n",
    "\n",
    "### Prototype : \n",
    "1. [Javascript : Prototype vs Class](https://medium.com/@parsyval/javascript-prototype-vs-class-a7015d5473b)\n",
    "\n",
    "\n",
    "2. [**A Beginner’s Guide to JavaScript’s Prototype**](https://medium.freecodecamp.org/a-beginners-guide-to-javascript-s-prototype-9c049fe7b34)\n",
    "\n",
    "\n",
    "3. [Fundamental Object Design Patterns in JavaScript](https://medium.com/@severinperez/javascript-weekly-fundamental-object-design-patterns-31453f68427f)\n",
    "\n",
    "\n",
    "4. [hackernoon - Prototypes in JavaScript](https://hackernoon.com/prototypes-in-javascript-5bba2990e04b)\n",
    "\n",
    "\n",
    "5. [A Beginner’s Guide to JavaScript’s Prototype](https://medium.freecodecamp.org/a-beginners-guide-to-javascript-s-prototype-9c049fe7b34)\n",
    "\n",
    "\n",
    "6. [tylermcginnis - A Beginner's Guide to JavaScript's Prototype](https://tylermcginnis.com/beginners-guide-to-javascript-prototype/)\n",
    "\n"
   ]
  },
  {
   "cell_type": "markdown",
   "metadata": {},
   "source": [
    "### Prototype\n",
    "\n",
    "```javascript\n",
    "// ES5\n",
    "\n",
    "function Animal (name, energy) {\n",
    "  this.name = name\n",
    "  this.energy = energy\n",
    "}\n",
    "\n",
    "Animal.prototype.eat = function (amount) {\n",
    "  console.log(`${this.name} is eating.`)\n",
    "  this.energy += amount\n",
    "}\n",
    "\n",
    "Animal.prototype.sleep = function (length) {\n",
    "  console.log(`${this.name} is sleeping.`)\n",
    "  this.energy += length\n",
    "}\n",
    "\n",
    "Animal.prototype.play = function (length) {\n",
    "  console.log(`${this.name} is playing.`)\n",
    "  this.energy -= length\n",
    "}\n",
    "\n",
    "const leo = new Animal('Leo', 7)\n",
    "const snoop = new Animal('Snoop', 10)\n",
    "\n",
    "```\n",
    "**this pattern called pseudoclassical pattern.**"
   ]
  },
  {
   "cell_type": "markdown",
   "metadata": {},
   "source": [
    "```javascript\n",
    "// ES6\n",
    "\n",
    "class Animal {\n",
    "  constructor(name, energy) {\n",
    "    this.name = name\n",
    "    this.energy = energy\n",
    "  }\n",
    "  eat(amount) {\n",
    "    console.log(`${this.name} is eating.`)\n",
    "    this.energy += amount\n",
    "  }\n",
    "  sleep(length) {\n",
    "    console.log(`${this.name} is sleeping.`)\n",
    "    this.energy += length\n",
    "  }\n",
    "  play(length) {\n",
    "    console.log(`${this.name} is playing.`)\n",
    "    this.energy -= length\n",
    "  }\n",
    "}\n",
    "\n",
    "const leo = new Animal('Leo', 7)\n",
    "const snoop = new Animal('Snoop', 10)\n",
    "\n",
    "```"
   ]
  },
  {
   "cell_type": "code",
   "execution_count": null,
   "metadata": {},
   "outputs": [],
   "source": []
  }
 ],
 "metadata": {
  "kernelspec": {
   "display_name": "Python 3",
   "language": "python",
   "name": "python3"
  },
  "language_info": {
   "codemirror_mode": {
    "name": "ipython",
    "version": 3
   },
   "file_extension": ".py",
   "mimetype": "text/x-python",
   "name": "python",
   "nbconvert_exporter": "python",
   "pygments_lexer": "ipython3",
   "version": "3.7.3"
  }
 },
 "nbformat": 4,
 "nbformat_minor": 2
}
