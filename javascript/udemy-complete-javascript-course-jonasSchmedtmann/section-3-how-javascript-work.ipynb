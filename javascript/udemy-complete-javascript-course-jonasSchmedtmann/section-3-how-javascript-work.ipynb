{
 "cells": [
  {
   "cell_type": "markdown",
   "metadata": {},
   "source": [
    "### Hoisting\n",
    "\n",
    "![hoisting](./images/39-hoisting.png)\n",
    "\n",
    "\n",
    ">**hoisting only work for function declaration but not for function expression**  \n",
    "\n",
    "![hoisting](./images/39-hoisting-1.png)\n",
    "\n",
    "first output for global object context and second is for foo function execution context"
   ]
  },
  {
   "cell_type": "markdown",
   "metadata": {},
   "source": [
    "### 40 - scoping and scope chain\n",
    "\n",
    "\n",
    "অন্যান্য language এ scope তৈরি হয় if, for, function ডিক্লেয়ার করলেই কিন্তু জাভাস্ক্রিপ্টে scope তৈরি হয় শুধুমাত্র function ক্রিয়েট করার সময়ই । "
   ]
  },
  {
   "cell_type": "markdown",
   "metadata": {},
   "source": [
    "### 42 - this keyword\n",
    "\n",
    "**this keyword সাধারণত console এ কল করলে window object কে indicate করে আবার সাধারণত কোন function এর ভেতরে কল করলেও window object কেই indicate করে কিন্তু কোন object এর ভেতরে কল করলে ঐ object কে indicate করে**\n",
    "\n",
    "![this keyword](./images/42-this-keyword.png)\n",
    "\n",
    "**this keyword কোন object এর inner function এর ভেতর কল করলে আবার window object কেই রেফার করে**\n",
    "![this keyword](./images/42-this-keyword-1.png)\n",
    "\n",
    "![this keyword](./images/42-this-keyword-2.png)"
   ]
  },
  {
   "cell_type": "code",
   "execution_count": null,
   "metadata": {},
   "outputs": [],
   "source": []
  }
 ],
 "metadata": {
  "kernelspec": {
   "display_name": "Python 3",
   "language": "python",
   "name": "python3"
  },
  "language_info": {
   "codemirror_mode": {
    "name": "ipython",
    "version": 3
   },
   "file_extension": ".py",
   "mimetype": "text/x-python",
   "name": "python",
   "nbconvert_exporter": "python",
   "pygments_lexer": "ipython3",
   "version": "3.7.3"
  }
 },
 "nbformat": 4,
 "nbformat_minor": 2
}
