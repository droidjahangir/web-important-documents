{
 "cells": [
  {
   "cell_type": "markdown",
   "metadata": {},
   "source": [
    "**Object এর ক্ষেত্রে আমরা ভেলু গুলো ফিক্সড করে দেই কিন্তু Class এর ক্ষেত্রে ভেলুগুল অবজেক্ট তৈরি করার সময় ই সেট randomly সেট করে দেওয়া যায়**   \n",
    "\n",
    "**Abstruction হচ্ছে কোন মেইনলি ডাটা হাইড করার পদ্ধতি**  \n",
    "\n",
    "**Ploymorphism হচ্ছে বহুরূপতা, Overloading, Overriding এগুলো হচ্ছে polymorphism এর উদাহারন**\n",
    "\n",
    "# part - 4  :- Understanding Prototype\n",
    "\n",
    "কোন ফাংশন constructor এর ভেতরে যখন কোন ফাংশন তৈরি করা হয় তখন যতবারই ঐ ফাংশনের নতুন অবজেক্ট new keyword দিয়ে তৈরি করা হয় ততবারই নতুন করে ইনার অবজেক্ট তৈরি হবে কিন্তু কোন ফাংশনের প্রোটোটাইপের ভেতরে যখন কোন ফাংশন ডিক্লেয়ার করা হয় তখন ঐ ফাংশনটা একবারি তৈরি হবে পরবর্তীতে যখন প্রয়োজন পরবে তখন শুধু রেফারেন্সটা দেওয়া হবে যদিও ২০০০টা অবজেক্ট তৈরি করা হোক না ক্যান , এটাই হচ্ছে ফাংশন constructor এর বাহিরে ফাংশন ডিক্লেয়ার করার সুবিধা ।    "
   ]
  },
  {
   "cell_type": "markdown",
   "metadata": {},
   "source": [
    "![oop](./images/1-oop.png)"
   ]
  },
  {
   "cell_type": "markdown",
   "metadata": {},
   "source": [
    "![oop](./images/2-encapsulation.png)\n",
    "![oop](./images/3-inheritance.png)\n",
    "![oop](./images/4-polymorphism.png)"
   ]
  },
  {
   "cell_type": "code",
   "execution_count": null,
   "metadata": {},
   "outputs": [],
   "source": []
  }
 ],
 "metadata": {
  "kernelspec": {
   "display_name": "Python 3",
   "language": "python",
   "name": "python3"
  },
  "language_info": {
   "codemirror_mode": {
    "name": "ipython",
    "version": 3
   },
   "file_extension": ".py",
   "mimetype": "text/x-python",
   "name": "python",
   "nbconvert_exporter": "python",
   "pygments_lexer": "ipython3",
   "version": "3.7.3"
  }
 },
 "nbformat": 4,
 "nbformat_minor": 2
}
