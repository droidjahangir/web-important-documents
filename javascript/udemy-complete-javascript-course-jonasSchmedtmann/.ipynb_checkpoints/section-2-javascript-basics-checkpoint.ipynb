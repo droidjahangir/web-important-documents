{
 "cells": [
  {
   "cell_type": "markdown",
   "metadata": {},
   "source": [
    "# Section 2 : Javascript language basics\n",
    "\n",
    "### 6-Lets start coading\n",
    "\n",
    "**inline script**\n",
    "\n",
    "```html\n",
    "<body>\n",
    "    <h2>Javascript language basics</h2>\n",
    "</body>\n",
    "<script>\n",
    "    console.log('Hello world!');\n",
    "</script>\n",
    "```"
   ]
  },
  {
   "cell_type": "markdown",
   "metadata": {},
   "source": [
    "**external script**\n",
    "\n",
    "```html\n",
    "<body>\n",
    "    <h2>Javascript language basics</h2>\n",
    "</body>\n",
    "<script src=\"script.js\" ></script>\n",
    "```"
   ]
  },
  {
   "cell_type": "markdown",
   "metadata": {},
   "source": [
    "### A brief introduction to javascript\n",
    "\n",
    "![whats javascript](./images/7-what-javascript.png)\n",
    "![html-css](./images/7-html-css.png)\n",
    "![es6](./images/7-es6.png)"
   ]
  },
  {
   "cell_type": "markdown",
   "metadata": {},
   "source": [
    "### 8- variables and data type\n",
    "\n",
    "\n",
    "### variable\n",
    "![variable](./images/8-variable-1.png)  \n",
    "\n",
    "**rule :** \n",
    "1. variable নামের আগে কোন সংখ্যা থাকতে পারবে না, তবে $, _ এই সাইনগুলা থাকতে পারবে ।  \n",
    "2. camelcase এ ভেরিয়াবলের নাম ডিক্লেয়ার করা হল কনভেনশনাল রুল । ex: firstName\n",
    "3. সংরক্ষিত keyword গুলো ভেরিয়েবলের নাম হিসেবে ডিক্লেয়ার করা যাবে না ।  \n"
   ]
  },
  {
   "cell_type": "markdown",
   "metadata": {},
   "source": [
    "\n",
    "### 9-variable mutation and type coercion  \n",
    "\n",
    "**comments**\n",
    "```javascript\n",
    "// single line comment\n",
    "\n",
    "/* Multy \n",
    "line\n",
    "comments\n",
    "*/\n",
    "\n",
    "```\n",
    "**type coercion**\n",
    "```javascript\n",
    "let firstName = 'jahangir'\n",
    "let age = 25\n",
    "\n",
    "console.log(firstName + ' ' + age)\n",
    "```\n",
    "**Prompt**\n",
    "\n",
    "```javascript\n",
    "let lastName = 'What is the last name?'\n",
    "console.log(firstName + ' ' + lastName);\n",
    "```"
   ]
  },
  {
   "cell_type": "markdown",
   "metadata": {},
   "source": [
    "### 10-basic operators\n",
    "\n",
    "![operator](./images/10-operator.png)"
   ]
  },
  {
   "cell_type": "markdown",
   "metadata": {},
   "source": [
    "### 11-operator precedence\n",
    "reference : https://codingheroes.io/resources/\n",
    "\n",
    "![precedence](./images/11-precedence-3.png)\n",
    "![precedence](./images/11-precedence.png)\n",
    "![precedence](./images/11-precedence-1.png)\n",
    "![precedence](./images/11-precedence-2.png)\n",
    "\n",
    "![coding challange](./images/12-codingChallange.png)\n",
    "![solution](./images/13-solution.png)"
   ]
  },
  {
   "cell_type": "markdown",
   "metadata": {},
   "source": [
    "### 14-if-else statement\n",
    "\n",
    "![if else statement](./images/14-if-else.png)"
   ]
  },
  {
   "cell_type": "markdown",
   "metadata": {},
   "source": [
    "### 15- boolean logic\n",
    "\n",
    "![boolean logic](./images/15-boolean-logic.png)\n",
    "\n",
    "### 16 - ternary operator and switch statement\n",
    "\n",
    "![ternary operator](./images/16-ternary-operator.png)\n",
    "![switch](./images/16-switch.png)"
   ]
  },
  {
   "cell_type": "markdown",
   "metadata": {},
   "source": [
    "### 17-truthy-falsy value\n",
    "\n",
    "![truthy and falsy value](./images/17-truthy-falsy.png)"
   ]
  },
  {
   "cell_type": "markdown",
   "metadata": {},
   "source": [
    "### 20-function\n",
    "\n",
    "![function](./images/20-function.png)"
   ]
  },
  {
   "cell_type": "markdown",
   "metadata": {},
   "source": [
    "### 21-function expression and statement\n",
    "\n",
    "![function expression and statement](./images/21-function-statement-expression.png)\n",
    "\n",
    "**expression vs statement**  \n",
    "function expression produce immediate result but function decleration do not. "
   ]
  },
  {
   "cell_type": "markdown",
   "metadata": {},
   "source": [
    "### 22 - array\n",
    "\n",
    "![array](./images/22-array.png)"
   ]
  },
  {
   "cell_type": "markdown",
   "metadata": {},
   "source": [
    "### 25 - Objects and properties\n",
    "\n",
    "![objects and properties](./images/25-objects.png)"
   ]
  },
  {
   "cell_type": "markdown",
   "metadata": {},
   "source": [
    "### 26 - Objects and methods\n",
    "\n",
    "**যখন কোন Object এর ভেতর function লেখা হয় তখন তাকে Method বলে** \n",
    "![object and method](./images/27-object-method.png)"
   ]
  },
  {
   "cell_type": "code",
   "execution_count": null,
   "metadata": {},
   "outputs": [],
   "source": []
  }
 ],
 "metadata": {
  "kernelspec": {
   "display_name": "Python 3",
   "language": "python",
   "name": "python3"
  },
  "language_info": {
   "codemirror_mode": {
    "name": "ipython",
    "version": 3
   },
   "file_extension": ".py",
   "mimetype": "text/x-python",
   "name": "python",
   "nbconvert_exporter": "python",
   "pygments_lexer": "ipython3",
   "version": "3.7.3"
  }
 },
 "nbformat": 4,
 "nbformat_minor": 2
}
