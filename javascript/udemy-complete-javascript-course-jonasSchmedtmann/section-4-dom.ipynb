{
 "cells": [
  {
   "cell_type": "markdown",
   "metadata": {},
   "source": [
    "# DOM (Document Object Modeling)\n",
    "\n",
    "> Math.floor()  \n",
    "\n",
    "floor() mthod removes the floating point value and returns the decimal number  \n",
    "\n",
    "> Math.random()  \n",
    "\n",
    "Math.random() returns random value between 0 and 1\n",
    "\n",
    "if we want value from 0 to 6 then we should be multiply this value with 6\n",
    "> Math.floor(Math.random()*6) + 1\n",
    "\n",
    "this method returns value from 0"
   ]
  },
  {
   "cell_type": "code",
   "execution_count": null,
   "metadata": {},
   "outputs": [],
   "source": [
    " "
   ]
  }
 ],
 "metadata": {
  "kernelspec": {
   "display_name": "Python 3",
   "language": "python",
   "name": "python3"
  },
  "language_info": {
   "codemirror_mode": {
    "name": "ipython",
    "version": 3
   },
   "file_extension": ".py",
   "mimetype": "text/x-python",
   "name": "python",
   "nbconvert_exporter": "python",
   "pygments_lexer": "ipython3",
   "version": "3.7.3"
  }
 },
 "nbformat": 4,
 "nbformat_minor": 2
}
