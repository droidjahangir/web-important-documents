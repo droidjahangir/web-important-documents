{
 "cells": [
  {
   "cell_type": "markdown",
   "metadata": {},
   "source": [
    "# 120 - Asynchronous javascript\n",
    "\n",
    "**synchronous :** that means all the instructions are executed one after the other, line by line. just in the order that they appear in the code. \n",
    "\n",
    "**Asynchronous :** we are going to use the setTimeOut function, which is basically to set a timer in javascript and that will then allow us to write code that should be executed later. \n",
    "### synchronous function - example\n",
    "![Synchronous](./images/120-synchronous.png)\n",
    "\n",
    "\n",
    "### Asynchronous function - example\n",
    "\n",
    "Asynchronous function এ setTimeOut() method এর প্রথম argument হচ্ছে callback এবং পরেরটা কত সেকেন্ড পর execute করবে সেটা \n",
    "![Asynchronous](./images/120-asynchronous.png)\n"
   ]
  },
  {
   "cell_type": "markdown",
   "metadata": {},
   "source": [
    "### 121. Event loop\n",
    "\n",
    "**Event loop :** The job of the event loop is to constantly monitor the message queue and the execution stack and to push the first callback function in line onto the execution stack, as soon as the stack is empty.  \n",
    "\n",
    "![event loop](./images/121-event-loop-1.png)\n",
    "![event loop](./images/121-event-loop-2.png)\n",
    "![event loop](./images/121-event-loop-3.png)"
   ]
  },
  {
   "cell_type": "markdown",
   "metadata": {},
   "source": [
    "# 122 - Old way javascript with Asynchronous Call back\n",
    "\n",
    "```javascript\n",
    "function getRecepi(){\n",
    "\n",
    "    const arr = [12,32,6]\n",
    "    setTimeout(() => {\n",
    "        console.log(arr);\n",
    "        \n",
    "    }, 1500)\n",
    "}\n",
    "\n",
    "getRecepi()\n",
    "\n",
    "```\n",
    "\n",
    "যখন একটা setTimeout() এর ভেতর আরেকটা, তার ভেতর আরেকটা এভাবে বার বার ইনার কল ব্যাক ফাংশন কল করা হয় তখন একে `Call back hell` বলা হয় । এই প্রবলেমটা সল্ভ করার জন্য ES6 এ নতুন একটা কনসেপ্ট ইন্ট্রডিউস করা হয়েছে একে বলে `promises`   \n",
    "\n",
    "![call back hell](./images/122-callback-hell.png)"
   ]
  },
  {
   "cell_type": "code",
   "execution_count": null,
   "metadata": {},
   "outputs": [],
   "source": []
  }
 ],
 "metadata": {
  "kernelspec": {
   "display_name": "Python 3",
   "language": "python",
   "name": "python3"
  },
  "language_info": {
   "codemirror_mode": {
    "name": "ipython",
    "version": 3
   },
   "file_extension": ".py",
   "mimetype": "text/x-python",
   "name": "python",
   "nbconvert_exporter": "python",
   "pygments_lexer": "ipython3",
   "version": "3.7.3"
  }
 },
 "nbformat": 4,
 "nbformat_minor": 2
}
