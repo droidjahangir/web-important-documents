{
 "cells": [
  {
   "cell_type": "markdown",
   "metadata": {},
   "source": [
    "# Advanced javascript object oriented programming\n",
    "\n",
    "![object function constructor](./images/61-object-function-constructor.png)"
   ]
  },
  {
   "cell_type": "markdown",
   "metadata": {},
   "source": [
    "প্রথমে Person declare করার সময় this keyword দিয়ে global or window object কে indicate করে কিন্তু যখন `new` keyword দিয়ে নতুন অবজেক্ট ক্রিয়েট করা হয় তখন this keyword দিয়ে নতুন empty object কেই indicate করে । "
   ]
  },
  {
   "cell_type": "markdown",
   "metadata": {},
   "source": [
    "### 63-Creating Objects Object.create()\n",
    "\n",
    "**The difference between Object.create() and the function constructor pattern is that object.create builds an object that inherits directly from the one we passed into the first argument. while, on the other hand, the function constructor the newly created object inherits from the constructor's prototype property.**  \n",
    "\n",
    "**One of the biggest benifits of Object.create() is that it allow us to directly specify which object should be a prototype.**"
   ]
  },
  {
   "cell_type": "markdown",
   "metadata": {},
   "source": [
    "### 64 - premitives vs. Objects\n",
    "\n",
    "premitives, actual value টাকে স্টোর করে অপরদিকে objects type variable শুধুমাত্র ঐ অবজেক্টের রেফারেন্সটাকে স্টোর করে ।  \n",
    "\n",
    "![primitives](./images/64-primitives.png)"
   ]
  },
  {
   "cell_type": "markdown",
   "metadata": {},
   "source": [
    "obj1 এবং obj2 দুইটাই রেফারেন্স পয়েন্ট করে তাই ২টার ক্ষেত্রেই একি ভেলু দেয় ।  \n",
    "![primitives](./images/64-primitive-function.png)\n",
    "\n",
    "function এর ভেতর কোন অবজেক্ট পাস করা হয় না বরঞ্চ অবজেক্টের রেফারেন্স পাস করা হয় ।  "
   ]
  },
  {
   "cell_type": "markdown",
   "metadata": {},
   "source": [
    "### 65 - first class functions passing functions as arguments\n",
    "\n",
    "![](./images/65-firstclass-function.png)"
   ]
  },
  {
   "cell_type": "markdown",
   "metadata": {},
   "source": [
    "### 66 - first class function returning function\n",
    "\n",
    "![returning funciton](./images/66-returning-function.png)\n",
    "![returning funciton](./images/66-returning-function-1.png)"
   ]
  },
  {
   "cell_type": "markdown",
   "metadata": {},
   "source": [
    "### 67 - iife - Immediately Invoked Function Expression\n",
    "\n",
    "![iife](./images/67-iife.png)\n",
    "\n",
    "**সাধারণত data privesy র জন্য এটা ইউজ হয় । () perenthesis দিয়ে আবৃত করে দেওয়া হয় ফাংশনটিকে । কারণ এটা বোঝানর জন্য যে ফাংশন dicleration না এটা function expression**"
   ]
  },
  {
   "cell_type": "markdown",
   "metadata": {},
   "source": [
    "### 68 - closures\n",
    "\n",
    "**Closures কিচ্ছু না জাস্ট outer function এর properties গুলো inner function use করতে পারে even কি outer function return করার পরেও । outer function এর execution context খতম হওয়ার পরেও**\n",
    "\n",
    "![closures](./images/68-closures.png)"
   ]
  },
  {
   "cell_type": "markdown",
   "metadata": {},
   "source": [
    "### call(), bind() and apply() method\n",
    "\n",
    "\n",
    "**call()**\n",
    "call method এ শুধুমাত্র this টাকে রিপ্লেস করে । এটাকে borrowing method ও বলা হয়ে থাকে । কারণ সাধারণত কোন ফাংশন global object এর প্রপার্টিগুলো ইউজ করে কিন্তু call() method দিয়ে ঐ গ্লোবাল অবজেক্ট পরিবর্তন করে অন্ন কোন অবজেক্টের প্রপার্টি সেট করে দেওয়া যায় । তাই এই this keyward এর মাধ্যমে explicitly scope change করে দেওয়া যায় ।    \n",
    "\n",
    "![call-1](./images/69-call-1.png)\n",
    "![call-2](./images/69-call-2.png)\n",
    "\n",
    "\n",
    "**apply()**\n",
    "অন্যদিকে apply() method টা array ইউজ করবে Argument এ । \n",
    "```javascript\n",
    "// john.presentation.apply(emily,['friendly', 'afternoon']);\n",
    "```\n",
    "\n",
    "\n",
    "**bind()**\n",
    "sometimes called carrying. carrying is just a technique in which we create a function based on another function, but with some preset parameters.ঠিক এই কাজটাই করে bind() method . আগেই কিছু প্যারামিটার সেট করে দেয় ।   \n",
    "\n",
    "![bind](./images/69-bind-1.png) "
   ]
  },
  {
   "cell_type": "code",
   "execution_count": null,
   "metadata": {},
   "outputs": [],
   "source": []
  }
 ],
 "metadata": {
  "kernelspec": {
   "display_name": "Python 3",
   "language": "python",
   "name": "python3"
  },
  "language_info": {
   "codemirror_mode": {
    "name": "ipython",
    "version": 3
   },
   "file_extension": ".py",
   "mimetype": "text/x-python",
   "name": "python",
   "nbconvert_exporter": "python",
   "pygments_lexer": "ipython3",
   "version": "3.7.3"
  }
 },
 "nbformat": 4,
 "nbformat_minor": 2
}
