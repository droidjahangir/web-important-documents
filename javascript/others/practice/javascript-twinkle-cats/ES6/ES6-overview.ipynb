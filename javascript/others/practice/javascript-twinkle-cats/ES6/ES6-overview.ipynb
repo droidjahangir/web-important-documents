{
 "cells": [
  {
   "cell_type": "markdown",
   "metadata": {},
   "source": [
    "### Enhance object\n",
    "\n",
    "```javascript\n",
    "\n",
    "let name = 'Jahangir alam'\n",
    "\n",
    "let email = 'droidjahangir@gmail.com'\n",
    "\n",
    "const Cat = {\n",
    "  name,\n",
    "  email,\n",
    "\n",
    "  print(){\n",
    "    console.log(this.name, this.email);\n",
    "  }\n",
    "}\n",
    "\n",
    "Cat.print();\n",
    "console.dir(Cat);\n",
    "\n",
    "```\n",
    "\n",
    "গ্লোবাল ভেরিয়েবল এবং অবজেক্টের ভেলু একি হলে এভাবে name, email declare করলে হয়ে যাবে । "
   ]
  },
  {
   "cell_type": "markdown",
   "metadata": {},
   "source": [
    "### Destructuring\n",
    "\n",
    "__destructuring মানে হচ্ছে array থেকে ভেলু গুলো আলাদা করে কোন ভেরিয়েবলে স্টোর করা বা,  অবজেক্ট থেকে element গুলো বের করে নিয়ে আশা ।__\n",
    "\n",
    "```javascript\n",
    "\n",
    "// const arr = [19,20,32]\n",
    "// let [a, b, c] = arr\n",
    "// console.log(b);\n",
    "\n",
    "\n",
    "const obj = {\n",
    "  name : 'imran',\n",
    "  email : 'jahangir.droid@gmail.com'\n",
    "}\n",
    "\n",
    "let { name, email } = obj;\n",
    "console.log(name, email);\n",
    "\n",
    "// use backtik\n",
    "function print({name, email}){\n",
    "  console.log(`Hello : ${name}; Email : ${email}`);\n",
    "}\n",
    "\n",
    "print({email, name});\n",
    "\n",
    "\n",
    "```\n",
    "\n",
    "{ } এই ব্রাকেটের মধ্যে দিলে অর্ডারটা মেটার করে না, যে কোন অর্ডারেই কল করা যায় কোন সমস্যা হয় না  । "
   ]
  },
  {
   "cell_type": "code",
   "execution_count": null,
   "metadata": {},
   "outputs": [],
   "source": []
  }
 ],
 "metadata": {
  "kernelspec": {
   "display_name": "Python 3",
   "language": "python",
   "name": "python3"
  },
  "language_info": {
   "codemirror_mode": {
    "name": "ipython",
    "version": 3
   },
   "file_extension": ".py",
   "mimetype": "text/x-python",
   "name": "python",
   "nbconvert_exporter": "python",
   "pygments_lexer": "ipython3",
   "version": "3.7.2"
  }
 },
 "nbformat": 4,
 "nbformat_minor": 2
}
