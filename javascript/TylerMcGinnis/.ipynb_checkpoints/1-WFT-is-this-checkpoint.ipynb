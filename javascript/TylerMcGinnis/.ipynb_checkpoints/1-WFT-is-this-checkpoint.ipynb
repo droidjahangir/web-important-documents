{
 "cells": [
  {
   "cell_type": "markdown",
   "metadata": {},
   "source": [
    "video link : [WTF is THIS: Understanding the \"this\" keyword in JavaScript](https://www.youtube.com/watch?v=zE9iro4r918)"
   ]
  },
  {
   "cell_type": "markdown",
   "metadata": {},
   "source": [
    "### 1. Implicit binding\n",
    "![this keyword](./images/this-1.png)\n",
    "\n",
    "ডট(.) এর আগের অবজেক্টটার প্রপার্টি this দাঁড়া রেফার করে ।  "
   ]
  },
  {
   "cell_type": "markdown",
   "metadata": {},
   "source": [
    "### 2. Explecit binding  \n",
    "\n",
    "![explecit binding](./images/this-2.png)\n",
    "![explecit binding](./images/this-3.png)\n",
    "\n",
    "\n",
    "### 3. new binding\n",
    "যেকোনো ফাংশন সবসময় ডিফল্ট অবস্তায় window object কেই indicate করে কিন্তু যখন new keyword দিয়ে ঐ ফাংশনের constructor কে কল করা হয় তখন সেটা ঐ ফাংশনের proparties কে indicate করে ।   \n",
    "\n",
    "\n",
    "### 4. window binding\n",
    "\n",
    "ফাংশনের ভেতর যেকোনো প্রপার্টি কল করলে সেটা window object কেই indicate করে । তবে সে proparties টা না থাকলে সেটাকে initialize করার জন্য window.proparties দিয়ে access করতে হয় ।  \n",
    "\n",
    "\n",
    "![new and window binding](./images/this-4.png)"
   ]
  },
  {
   "cell_type": "code",
   "execution_count": null,
   "metadata": {},
   "outputs": [],
   "source": []
  }
 ],
 "metadata": {
  "kernelspec": {
   "display_name": "Python 3",
   "language": "python",
   "name": "python3"
  },
  "language_info": {
   "codemirror_mode": {
    "name": "ipython",
    "version": 3
   },
   "file_extension": ".py",
   "mimetype": "text/x-python",
   "name": "python",
   "nbconvert_exporter": "python",
   "pygments_lexer": "ipython3",
   "version": "3.7.3"
  }
 },
 "nbformat": 4,
 "nbformat_minor": 2
}
