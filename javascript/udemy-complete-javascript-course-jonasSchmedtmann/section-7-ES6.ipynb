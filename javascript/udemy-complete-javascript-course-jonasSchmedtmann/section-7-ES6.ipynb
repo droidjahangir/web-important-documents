{
 "cells": [
  {
   "cell_type": "markdown",
   "metadata": {},
   "source": [
    "# 104 - variable declaration with `let` and `const`\n",
    "\n",
    "**rule - 1**   \n",
    "\n",
    "ES5 এ var keyword দিয়ে ভেরিয়েবল ডিক্লেয়ার করলে variable এর মান পরিবর্তন করা যায়, কিন্তু ES6 এ `const` keyword দিয়ে ভেরিয়েবল ডিক্লেয়ার করলে এর মান পরিবর্তন করা যায় না তবে `let` keyword দিয়ে ডিক্লেয়ার করলে মান পরিবর্তন করা যায়  \n",
    "\n",
    "![variable](./images/104-variable-1.png)"
   ]
  },
  {
   "cell_type": "markdown",
   "metadata": {},
   "source": [
    "**rule - 2**   \n",
    "\n",
    "`var` keyword টি function level অর্থাৎ শুধুমাত্র function এর মধ্যে access করা যায় কিন্তু `let` এবং `const` keyword দিয়ে ডিক্লেয়ার করা ভেরিয়েবল টি block level অর্থাৎ শুধুমাত্র block এর মধ্যেই access করা যায় । ব্লক বলতে {} দিয়ে আবৃত অংশ such as: for, if, while, switch block. \n",
    "\n",
    "![variable scope](./images/104-variable-2.png)"
   ]
  },
  {
   "cell_type": "markdown",
   "metadata": {},
   "source": [
    "**rule - 3**   \n",
    "\n",
    "ES5 এ ভেরিয়েবল ডিক্লেয়ার করার আগে call করলে `undefine` দেখাইত অর্থাৎ hoisted করা থাকতো তবে কল করলে undefine দেখাইত কিন্তু ES6 এ এভাবে কল করলে hoisted করা থাকবে ঠিকই কিন্তু `error` দেখাবে, use করতে দিবে না একে বলে `temporary-dead-zone`  \n",
    "\n",
    "![variable](./images/104-variable-3.png)\n",
    "![variable](./images/104-variable-4.png)\n",
    "\n",
    "\n",
    "এখানে ২ টা i , একটা গ্লোবাল স্কোপের মধ্যে আরেকটা ফর স্কোপের মধ্যে তাই, পরের বার গ্লোবাল স্কোপের মান প্রিন্ট করছে ।  \n",
    "\n",
    "![variable](./images/104-variable-5.png)"
   ]
  },
  {
   "cell_type": "markdown",
   "metadata": {},
   "source": [
    "# 105 - Blocks and IIFE (Immediately-Invoked Function Expression)  \n",
    "\n",
    "ES5 এ IIFE data privasy র জন্য ইউজ হতো কিন্তু ES6 এ block lebel variable একি কাজ করে ।  \n",
    "\n",
    "![block vs iife](./images/105-blockVsIIFE.png)"
   ]
  },
  {
   "cell_type": "markdown",
   "metadata": {},
   "source": [
    "# 106 - Strings  \n",
    "\n",
    "ES5 এ string concate করার জন্য আগে + sign use করা হতো কিন্তু ES6 এ ${variable} use করা হয় । একে বলে `string literal`\n",
    "\n",
    "![strings](./images/106-strings-1.png)  \n",
    "\n",
    "**String methods**  \n",
    "\n",
    "```javascript\n",
    "\n",
    "// startWith()\n",
    "const n = `${firstName} ${lastName}` // John Smith\n",
    "console.log(n.startWith('J')) // true\n",
    "console.log(n.startWith('j')) // false\n",
    "\n",
    "\n",
    "// endWith()\n",
    "console.log(n.endWith('th')) // true\n",
    "console.log(n.endWith('sm')) // false\n",
    "\n",
    "\n",
    "// includes() - middele\n",
    "console.log(n.includes(' ')) // true\n",
    "\n",
    "\n",
    "// repeat()\n",
    "console.log(firstName.repeat(5))\n",
    "// for space between names\n",
    "console.log(`${firstName} `.repeat(5))\n",
    "```"
   ]
  },
  {
   "cell_type": "markdown",
   "metadata": {},
   "source": [
    "# 107 - Arrow Function\n",
    "\n",
    "কোন array থেকে প্রত্যেকটা element নিয়ে কাজ করার জন্য map function ব্যাবহার করা হয়, প্রথমে ES5 এ কিভাবে করে সেটা দেখানো হয়েছে এরপর ES6 এ arrow function এর মাধ্যমে কিভাবে করতে হয় এটা দেখানো হয়েছে (single argument) এরপর multiple argument এবং শেষে multiple statement থাকলে কিভাবে করতে হয় সেটা দেখানো হয়েছে ।    \n",
    "\n",
    "\n",
    "![arrow function](./images/107-arrow-function.png)"
   ]
  },
  {
   "cell_type": "markdown",
   "metadata": {},
   "source": [
    "# 108 - Arrow functions Lexical this keyword  \n",
    "\n",
    "ES5 এ আমরা জানি যে object এর মধ্যে inner function এ this keyword আসলে global object কেই indicate করে তাই এই প্রবলেমটা দূর করার জন্য immediate আগের ফাংশনটাতে একটা ভেরিয়েবল নিয়ে সেখানে this assign করে দিতে হতো    \n",
    "\n",
    "কিন্তু ES6 এর Arrow function এ lexical `this` keyword use করা হয় অর্থাৎ তখন this keyword দিয়ে immediate ফাংশনকেই indicate করবে inner function এ  \n",
    "\n",
    "তাই inner Method এ সবসময় Arrow function ই ব্যাবহার করা হয় এখন ।  \n",
    "\n",
    "Arrow functions don’t have their own `this` keyword. As a result, arrow functions can’t be constructor functions.\n",
    "\n",
    "```javascript\n",
    "const Animal = () => {}\n",
    "\n",
    "const leo = new Animal() // Error: Animal is not a constructor\n",
    "\n",
    "\n",
    "const Animal = () => {}\n",
    "console.log(Animal.prototype) // undefined\n",
    "```\n",
    "\n",
    "![lexical arrow funcion](./images/108-lexical-this-1.png)\n",
    "![lexical arrow funcion](./images/108-lexical-this-2.png)\n",
    "\n",
    "![lexical arrow funcion](./images/108-lexical-this-3.png)\n",
    "\n",
    "আবার যখন lexical this keyword use করা হবে তখন আবার global object কেই indicate করবে । তাই lexical this কি ওয়ার্ড ইউজ করার সময় সতর্ক থাকতে হবে ।  \n",
    "![lexical arrow funcion](./images/108-lexical-this-4.png)\n",
    "\n",
    "\n",
    "**Another example**  \n",
    "\n",
    "ES5 এ bind() method দিয়ে manualy this keyword define করতাম কিন্তু ES6 এ lexical this কি-ওয়ার্ড ঐ একি কাজ করা যায় ।   \n",
    "\n",
    "![lexical this](./images/108-lexical-this-5.png)\n",
    "\n",
    "এখানে এরর দিয়েছে কারণ inner function এ this keyword দিয়ে আসলে global object কেই indicate করছে, এই প্রবলেম সল্ভ করার জন্য ES5 এ bind() method use করা হতো । কারণ bind method দিয়ে ম্যানুয়ালি this object সেট করে দেওয়া যায় ।    \n",
    "\n",
    "ES5\n",
    "![lexical this](./images/108-lexical-this-6.png)\n",
    "\n",
    "ES6\n",
    "![lexical this](./images/108-lexical-this-7.png)"
   ]
  },
  {
   "cell_type": "markdown",
   "metadata": {},
   "source": [
    "# 109 - Destructuring  \n",
    "\n",
    "Destructuring gives us a very convenient way to extruct data from a data structure like an object or an array.  \n",
    "\n",
    "![destructuring](./images/109-destructuring-1.png)\n",
    "\n",
    "practical application\n",
    "![destructuring](./images/109-destructuring-2.png)"
   ]
  },
  {
   "cell_type": "markdown",
   "metadata": {},
   "source": [
    "# 110 - Arrays\n",
    "\n",
    "just sugar over creating a `new` instance of the `Array class`.\n",
    "\n",
    "```javascript\n",
    "const friendWithSugar = []\n",
    "\n",
    "const friendWithoutSugar = new Array()\n",
    "\n",
    "```\n",
    "show all its properties by using `Array.prototype` property\n",
    "\n",
    "```javascript\n",
    "console.log(Array.prototype)\n",
    "\n",
    "/*\n",
    "  concat: ƒn concat()\n",
    "  constructor: ƒn Array()\n",
    "  copyWithin: ƒn copyWithin()\n",
    "  entries: ƒn entries()\n",
    "  every: ƒn every()\n",
    "  fill: ƒn fill()\n",
    "  filter: ƒn filter()\n",
    "  find: ƒn find()\n",
    "  findIndex: ƒn findIndex()\n",
    "  forEach: ƒn forEach()\n",
    "  includes: ƒn includes()\n",
    "  indexOf: ƒn indexOf()\n",
    "  join: ƒn join()\n",
    "  keys: ƒn keys()\n",
    "  lastIndexOf: ƒn lastIndexOf()\n",
    "  length: 0n\n",
    "  map: ƒn map()\n",
    "  pop: ƒn pop()\n",
    "  push: ƒn push()\n",
    "  reduce: ƒn reduce()\n",
    "  reduceRight: ƒn reduceRight()\n",
    "  reverse: ƒn reverse()\n",
    "  shift: ƒn shift()\n",
    "  slice: ƒn slice()\n",
    "  some: ƒn some()\n",
    "  sort: ƒn sort()\n",
    "  splice: ƒn splice()\n",
    "  toLocaleString: ƒn toLocaleString()\n",
    "  toString: ƒn toString()\n",
    "  unshift: ƒn unshift()\n",
    "  values: ƒn values()\n",
    "*/\n",
    "\n",
    "```\n",
    "\n",
    "querySelector array return করে না শুধু নোড রিটার্ন করে তাই নিচের এই from() method ব্যাবহার করা হয় ।   \n",
    "\n",
    "![array](./images/110-array-1.png)\n",
    "\n",
    "\n",
    "ES5 এ যখন array র উপড়ে loop চালানো হয় তখন সাধারণত foreach() অথবা map() method use করা হয় কিন্তু সমস্যা হচ্ছে তখন `break` অথবা `continue` ব্যাবহার করা যায় না নরমাল for loop ব্যাবহার করা হয় ।   \n",
    "\n",
    "কিন্তু ES6 এ for...of loop ব্যাবহার করা হয় ।   \n",
    "\n",
    "![array](./images/110-array-2.png)"
   ]
  },
  {
   "cell_type": "markdown",
   "metadata": {},
   "source": [
    "# 111 - Spread operator\n",
    "\n",
    "argument হিসেবে কোন array পাঁঠাতে চাইলে `spread` operator ব্যাবহার করা হয় ।  \n",
    "\n",
    "![spread operator](./images/111-spread-operator-1.png)\n",
    "\n",
    "querySelectorAll() method টা node list নিয়ে আসে , তাই ঐ নোডলিস্টকে array তে কনভার্ট করতে হলে Array.from() method ব্যাবহার করা হয় ।  "
   ]
  },
  {
   "cell_type": "markdown",
   "metadata": {},
   "source": [
    "![spread operator](./images/111-spread-operator-2.png)"
   ]
  },
  {
   "cell_type": "markdown",
   "metadata": {},
   "source": [
    "# 112 - Rest parameters\n",
    "\n",
    "rest parameters allow us to pass an arbitary number of arguments into a function. Rest parameter দেখতে পুরো spread operator মতো হোলেও কাজ সম্পূর্ণ opposit. কারণ spread operator আর্গুমেন্ট হিসেবে array নিয়ে এটাকে সিঙ্গেল ভেলু হিসেবে function এ pass করে কিন্তু rest parameter সিঙ্গেল ভেলু নেয় এবং array তে transform করে ফাংশনে সেই array টা pass করে ।  আর prototype এ array show করবে কিন্তু ES5 এ অবজেক্ট রিটার্ন করতো তখন একে আবার array তে কনভার্ট করে নিতে হতো ।   \n",
    "\n",
    "![rest parameter](./images/112-rest-parameter-1.png)"
   ]
  },
  {
   "cell_type": "markdown",
   "metadata": {},
   "source": [
    "ES5 এ পাঠানো আর্গুমেন্টটাকে আলাদাভাবে slice করে নিতে হতো , কিন্তু ES6 এ প্যারামিটারে শুধু কমা দিয়ে বলে দিলেই হয়ে যায় ।   \n",
    "\n",
    "```javascript\n",
    "\n",
    "// ES5 \n",
    "Array.prototype.slice.call(arguments,1)\n",
    "\n",
    "// ES6\n",
    "function isFullAge6(limit, ...years)\n",
    "```"
   ]
  },
  {
   "cell_type": "markdown",
   "metadata": {},
   "source": [
    "# 113 - Default parameter \n",
    "\n",
    "we use default parameter whenever we want one or more parameters of a function to be preset, so we want them to have a default value. \n",
    "\n",
    "![default parameter](./images/113-default-parameter.png)"
   ]
  },
  {
   "cell_type": "markdown",
   "metadata": {},
   "source": [
    "# 114 - Maps\n",
    "\n",
    "Maps আসলে অনেকটা অবজেক্টের মতো । এটা কি-ভেলু হিসেবে ডাটা স্টোর করে রাখে ।   \n",
    "\n",
    "![maps](./images/114-maps-1.png)\n",
    "\n",
    "Iteration over maps\n",
    "![maps](./images/114-maps-2.png)  \n",
    "\n",
    "\n",
    "**why map is better than objects to create hash maps?**  \n",
    "\n",
    "1. map is better because we can use anything as keys.\n",
    "\n",
    "2. maps are iterable and making it very easy to loop through them and to manipulate data with them. \n",
    "\n",
    "3. to get the size of a map using the size property and that can also be very handy. "
   ]
  },
  {
   "cell_type": "markdown",
   "metadata": {},
   "source": [
    "# 116 - Inheritance\n",
    "\n",
    "\n",
    "![inheritance](./images/116-inheritance.png)"
   ]
  },
  {
   "cell_type": "code",
   "execution_count": null,
   "metadata": {},
   "outputs": [],
   "source": []
  }
 ],
 "metadata": {
  "kernelspec": {
   "display_name": "Python 3",
   "language": "python",
   "name": "python3"
  },
  "language_info": {
   "codemirror_mode": {
    "name": "ipython",
    "version": 3
   },
   "file_extension": ".py",
   "mimetype": "text/x-python",
   "name": "python",
   "nbconvert_exporter": "python",
   "pygments_lexer": "ipython3",
   "version": "3.7.3"
  }
 },
 "nbformat": 4,
 "nbformat_minor": 2
}
