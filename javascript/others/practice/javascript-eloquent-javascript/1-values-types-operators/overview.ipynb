{
 "cells": [
  {
   "cell_type": "markdown",
   "metadata": {},
   "source": [
    "**6 basics types of values in javascript**  \n",
    "\n",
    "* Numbers  \n",
    "* Strings  \n",
    "* Booleans  \n",
    "* Objects  \n",
    "* Functions  \n",
    "* Undefined values"
   ]
  },
  {
   "cell_type": "markdown",
   "metadata": {},
   "source": [
    "### Numbers  \n",
    "\n",
    "* একতা সিঙ্গেল নাম্বার স্টোর করার জন্য javascript ৬৪ বিট বরাদ্ধ করে ।  \n",
    "\n",
    "* exponent number (scientific notation) can be use by adding \"e\". ex : 2.998e8  \n"
   ]
  },
  {
   "cell_type": "markdown",
   "metadata": {},
   "source": [
    "### Arithmetic  \n",
    "\n",
    "ex : 100 + 4 * 11"
   ]
  },
  {
   "cell_type": "markdown",
   "metadata": {},
   "source": [
    "### Special numbers  \n",
    "\n",
    "* infinity\n",
    "* NaN (Not a Number) - It is a value of the number type"
   ]
  },
  {
   "cell_type": "markdown",
   "metadata": {},
   "source": [
    "### String \n",
    "\"Patch my boat with chewing gum\"\n",
    "'Monkeys wave goodby'\n",
    "\n",
    "both single and double quotes are allowed in javascript  \n",
    "\n",
    "**new line**  \n",
    "```javascript\n",
    "\"this is the fiest line \\nAnd this is the second\"\n",
    "```\n",
    "\n",
    "**quote inside string**  \n",
    "\"A newline character is written like \\\"\\\\n\\\".\"\n",
    "\n",
    "**string concatenates**\n",
    "```javascript\n",
    "\"con\" + \"cat\" + \"e\" + \"nate\"\n",
    "```  \n",
    "\n",
    "\n",
    "**Unary operator**  \n",
    "```javascript\n",
    "console.log(typeof(4.6));  \n",
    "console.log(typeof(\"x\"));  \n",
    "consol.log(-(10-2));\n",
    "```"
   ]
  },
  {
   "cell_type": "markdown",
   "metadata": {},
   "source": [
    "### Boolean values  \n",
    "\n",
    "two types -  \n",
    "1. true  \n",
    "2. false  \n",
    "\n",
    "```javascript\n",
    "console.log(3 > 2)\n",
    "// true  \n",
    "console.log(3 < 2)\n",
    "// false\n",
    "\n",
    "console.log(\"Aardvark\" > \"Zoroaster\")\n",
    "// true\n",
    "```\n",
    "there are only one value in javascript that is not equal to itself and that is NaN  \n",
    "```javascript\n",
    "console.log(NaN == NaN)\n",
    "// false\n",
    "```"
   ]
  },
  {
   "cell_type": "markdown",
   "metadata": {},
   "source": [
    "### Logical operator\n",
    "\n",
    "1. and (&&)\n",
    "2. or (||)  \n",
    "3. not (!)  \n",
    "\n",
    "last not `unary` `binary` but `ternary` operator  also called conditional operator  \n",
    "\n",
    "```javascript\n",
    "console.log(true ? 1 : 2);\n",
    "// 1\n",
    "console.log(false ? 1 : 2);\n",
    "// 2\n",
    "```"
   ]
  },
  {
   "cell_type": "markdown",
   "metadata": {},
   "source": [
    "### Undefined values \n",
    "two special values  \n",
    "1. null\n",
    "2. undefined\n",
    "\n",
    "they are themselves values but they carry no information.  "
   ]
  },
  {
   "cell_type": "code",
   "execution_count": null,
   "metadata": {},
   "outputs": [],
   "source": []
  }
 ],
 "metadata": {
  "kernelspec": {
   "display_name": "Python 3",
   "language": "python",
   "name": "python3"
  },
  "language_info": {
   "codemirror_mode": {
    "name": "ipython",
    "version": 3
   },
   "file_extension": ".py",
   "mimetype": "text/x-python",
   "name": "python",
   "nbconvert_exporter": "python",
   "pygments_lexer": "ipython3",
   "version": "3.7.2"
  }
 },
 "nbformat": 4,
 "nbformat_minor": 2
}
